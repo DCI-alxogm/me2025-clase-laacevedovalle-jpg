{
  "nbformat": 4,
  "nbformat_minor": 0,
  "metadata": {
    "colab": {
      "provenance": [],
      "authorship_tag": "ABX9TyMKkZWheKkYN3CZYd7A0M02",
      "include_colab_link": true
    },
    "kernelspec": {
      "name": "python3",
      "display_name": "Python 3"
    },
    "language_info": {
      "name": "python"
    }
  },
  "cells": [
    {
      "cell_type": "markdown",
      "metadata": {
        "id": "view-in-github",
        "colab_type": "text"
      },
      "source": [
        "<a href=\"https://colab.research.google.com/github/DCI-alxogm/me2025-clase-laacevedovalle-jpg/blob/main/Semana2/Ejercicio1_Ago12.ipynb\" target=\"_parent\"><img src=\"https://colab.research.google.com/assets/colab-badge.svg\" alt=\"Open In Colab\"/></a>"
      ]
    },
    {
      "cell_type": "code",
      "execution_count": 5,
      "metadata": {
        "id": "Z4YnMVyPGafq"
      },
      "outputs": [],
      "source": [
        "!gcc Ejercicio1_Ago12.c -lm -o Ejercicio1_Ago12.out"
      ]
    },
    {
      "cell_type": "code",
      "source": [
        "!./Ejercicio1_Ago12.out"
      ],
      "metadata": {
        "colab": {
          "base_uri": "https://localhost:8080/"
        },
        "id": "pefwsGVzIzG0",
        "outputId": "ba9bccf7-0418-4ec6-e0df-80ec37e9577d"
      },
      "execution_count": 6,
      "outputs": [
        {
          "output_type": "stream",
          "name": "stdout",
          "text": [
            "  x=1 \n",
            " exp(x)+cos(x)= 3.258584\n",
            " 2  0.477121\n",
            "  x=3 \n",
            " exp(x)+cos(x)= 19.095545\n",
            " 4  0.698970\n",
            "  x=5 \n",
            " exp(x)+cos(x)= 148.696823\n",
            "\n",
            "Resultados:\n",
            "3.258584\n",
            "0.477121\n",
            "19.095545\n",
            "0.698970\n",
            "148.696823\n",
            "Pi+Pi=6.28"
          ]
        }
      ]
    }
  ]
}