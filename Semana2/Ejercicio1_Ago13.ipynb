{
  "nbformat": 4,
  "nbformat_minor": 0,
  "metadata": {
    "colab": {
      "provenance": [],
      "authorship_tag": "ABX9TyPR3b4xexWxMbTj/b1AK5iy",
      "include_colab_link": true
    },
    "kernelspec": {
      "name": "python3",
      "display_name": "Python 3"
    },
    "language_info": {
      "name": "python"
    }
  },
  "cells": [
    {
      "cell_type": "markdown",
      "metadata": {
        "id": "view-in-github",
        "colab_type": "text"
      },
      "source": [
        "<a href=\"https://colab.research.google.com/github/DCI-alxogm/me2025-clase-laacevedovalle-jpg/blob/main/Semana2/Ejercicio1_Ago13.ipynb\" target=\"_parent\"><img src=\"https://colab.research.google.com/assets/colab-badge.svg\" alt=\"Open In Colab\"/></a>"
      ]
    },
    {
      "cell_type": "code",
      "execution_count": 2,
      "metadata": {
        "id": "QKc5R18BWpkm"
      },
      "outputs": [],
      "source": [
        "!gcc Ejercicio1_Ago13.c -lm -o Ejercicio1_Ago13.out"
      ]
    },
    {
      "cell_type": "code",
      "source": [
        "!./Ejercicio1_Ago13.out"
      ],
      "metadata": {
        "colab": {
          "base_uri": "https://localhost:8080/"
        },
        "id": "Xbgjyx1reLHA",
        "outputId": "fe4cc007-7b80-4dd7-ca98-7299fe64c634"
      },
      "execution_count": 4,
      "outputs": [
        {
          "output_type": "stream",
          "name": "stdout",
          "text": [
            "e=(a+b)*c/d=5\n",
            "e=((a+b)*c)/d=5\n",
            "e=a+b*c/d=5\n",
            "e=(a+b)*c/d=5\n"
          ]
        }
      ]
    },
    {
      "cell_type": "code",
      "source": [],
      "metadata": {
        "id": "FLOz8LV9eUdO"
      },
      "execution_count": null,
      "outputs": []
    }
  ]
}